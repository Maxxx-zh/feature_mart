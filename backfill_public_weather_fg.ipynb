{
 "cells": [
  {
   "cell_type": "markdown",
   "id": "0948e3dc-8d12-416e-a55a-9fcd166de119",
   "metadata": {},
   "source": [
    "# <span style=\"color:#ff5f27\"> 📝 Imports"
   ]
  },
  {
   "cell_type": "code",
   "execution_count": null,
   "id": "16d2984c-3f51-44f6-b83e-e03cf82fd5e9",
   "metadata": {},
   "outputs": [],
   "source": [
    "import os\n",
    "from datetime import datetime\n",
    "import requests\n",
    "import json\n",
    "import pandas as pd"
   ]
  },
  {
   "cell_type": "code",
   "execution_count": null,
   "id": "79892e5f-f7ac-41eb-818c-8c60634e2d5a",
   "metadata": {},
   "outputs": [],
   "source": [
    "!pip install geopy --quiet"
   ]
  },
  {
   "cell_type": "markdown",
   "id": "71972fe3",
   "metadata": {},
   "source": [
    "# <span style=\"color:#ff5f27\"> ⚙️ Functions"
   ]
  },
  {
   "cell_type": "code",
   "execution_count": null,
   "id": "cf4be7d2-9db6-471e-acfb-7c6d9d8583e1",
   "metadata": {},
   "outputs": [],
   "source": [
    "def get_city_coordinates(city_name: str):\n",
    "    \"\"\"\n",
    "    Takes city name and returns its latitude and longitude (rounded to 2 digits after dot).\n",
    "    \"\"\"\n",
    "    from geopy.geocoders import Nominatim\n",
    "    \n",
    "    \n",
    "    # Initialize Nominatim API (for getting lat and long of the city)\n",
    "    geolocator = Nominatim(user_agent=\"MyApp\")\n",
    "    city = geolocator.geocode(city_name)\n",
    "\n",
    "    latitude = round(city.latitude, 2)\n",
    "    longitude = round(city.longitude, 2)\n",
    "    \n",
    "    return latitude, longitude"
   ]
  },
  {
   "cell_type": "code",
   "execution_count": null,
   "id": "1716ebd1-b730-4b8b-a7be-c57e4d113774",
   "metadata": {},
   "outputs": [],
   "source": [
    "def get_weather_data(city_name: str,\n",
    "                     start_date: str = None,\n",
    "                     end_date: str = None,\n",
    "                     forecast: bool = False):\n",
    "    \"\"\"\n",
    "    Takes city name and returns pandas DataFrame with weather data.\n",
    "    \n",
    "    'start_date' and 'end_date' are required if you parse historical observations data. (forecast=False)\n",
    "    \n",
    "    If forecast=True - returns 7 days forecast data by default (without specifying daterange).\n",
    "    \"\"\"\n",
    "    \n",
    "    latitude, longitude = get_city_coordinates(city_name=city_name)\n",
    "    \n",
    "    params = {\n",
    "        'latitude': latitude,\n",
    "        'longitude': longitude,\n",
    "        'hourly': ['temperature_2m','relativehumidity_2m','precipitation',\n",
    "                   'weathercode','windspeed_10m','winddirection_10m'],\n",
    "        'start_date': start_date,\n",
    "        'end_date': end_date\n",
    "    }\n",
    "    \n",
    "    if forecast:\n",
    "        # historical forecast endpoint\n",
    "        base_url = 'https://api.open-meteo.com/v1/forecast' \n",
    "    else:\n",
    "        # historical observations endpoint\n",
    "        base_url = 'https://archive-api.open-meteo.com/v1/archive?' \n",
    "        \n",
    "    response = requests.get(base_url, params=params)\n",
    "\n",
    "    response_json = response.json()\n",
    "\n",
    "    some_metadata = {key: response_json[key] for key in ('latitude', 'longitude',\n",
    "                                                         'timezone', 'hourly_units')}\n",
    "    \n",
    "    \n",
    "    res_df = pd.DataFrame(response_json[\"hourly\"])\n",
    "    \n",
    "    res_df[\"forecast_hr\"] = 0\n",
    "    \n",
    "    if forecast:\n",
    "        res_df[\"forecast_hr\"] = res_df.index\n",
    "    \n",
    "    some_metadata[\"city_name\"] = city_name\n",
    "    res_df[\"city_name\"] = city_name\n",
    "    \n",
    "    # rename columns\n",
    "    res_df = res_df.rename(columns={\n",
    "        \"time\": \"base_time\",\n",
    "        \"temperature_2m\": \"temperature\",\n",
    "        \"relativehumidity_2m\": \"relative_humidity\",\n",
    "        \"weathercode\": \"weather_code\",\n",
    "        \"windspeed_10m\": \"wind_speed\",\n",
    "        \"winddirection_10m\": \"wind_direction\"\n",
    "    })\n",
    "    \n",
    "    # change columns order\n",
    "    res_df = res_df[[\"city_name\", \"base_time\", \"forecast_hr\", \"temperature\",\n",
    "                     \"relative_humidity\", \"weather_code\", \"wind_speed\", \"wind_direction\"]]\n",
    "    \n",
    "    # convert dates\n",
    "    res_df[\"base_time\"] = pd.to_datetime(res_df[\"base_time\"])\n",
    "    \n",
    "    return res_df, some_metadata"
   ]
  },
  {
   "cell_type": "markdown",
   "id": "a68f0e6a",
   "metadata": {},
   "source": [
    "# <span style=\"color:#ff5f27\"> 🔮 Data Parsing"
   ]
  },
  {
   "cell_type": "code",
   "execution_count": null,
   "id": "47200167-476a-435a-868b-b02e030092de",
   "metadata": {},
   "outputs": [],
   "source": [
    "weather_df, metadata = get_weather_data(\"Madrid\", forecast=False, \n",
    "                                        start_date=\"2023-02-10\", end_date=\"2023-02-12\")"
   ]
  },
  {
   "cell_type": "code",
   "execution_count": null,
   "id": "236415c0-8bc3-4702-94ce-8aa67462621a",
   "metadata": {},
   "outputs": [],
   "source": [
    "weather_df"
   ]
  },
  {
   "cell_type": "code",
   "execution_count": null,
   "id": "0cbd3202-4159-457e-9c2a-ff63c7636b1b",
   "metadata": {},
   "outputs": [],
   "source": [
    "weather_df, metadata = get_weather_data(\"Madrid\", forecast=True, \n",
    "                                        start_date=\"2023-02-10\", end_date=\"2023-02-12\")"
   ]
  },
  {
   "cell_type": "code",
   "execution_count": null,
   "id": "dce35aab-c5ae-403c-8482-28e73b16a6ec",
   "metadata": {},
   "outputs": [],
   "source": [
    "weather_df"
   ]
  },
  {
   "cell_type": "code",
   "execution_count": null,
   "id": "8566dbd6-222e-4ec4-bfa5-d96025164095",
   "metadata": {},
   "outputs": [],
   "source": [
    "metadata"
   ]
  },
  {
   "cell_type": "markdown",
   "id": "529937bd-79f7-40fb-a991-d30409f9d7c4",
   "metadata": {},
   "source": [
    "---"
   ]
  },
  {
   "cell_type": "markdown",
   "id": "053c4c5e-7967-47be-8073-7799c2cd721f",
   "metadata": {},
   "source": [
    "#### Code to transform df to 1-n dimensional dataframe (first Jim's idea)"
   ]
  },
  {
   "cell_type": "code",
   "execution_count": null,
   "id": "e27e6815-9603-4314-9321-928c5de74f37",
   "metadata": {},
   "outputs": [],
   "source": [
    "# def get_transformed_forecast_df(weather_df):\n",
    "#     # take every second hour-observation, transpose the dataframe\n",
    "#     df_temp = weather_df.iloc[::2].T\n",
    "\n",
    "#     res_dict = dict()\n",
    "    \n",
    "#     # add 'city_name' and 'base_date' columns\n",
    "#     res_dict[\"city_name\"] = weather_df.loc[0, \"city_name\"]\n",
    "#     res_dict[\"base_date\"] = weather_df.loc[0, \"base_date\"]\n",
    "\n",
    "#     for i in df_temp.columns:\n",
    "#         res_dict[f\"{i}hr_temperature\"] = df_temp.loc[\"temperature_2m\", i]\n",
    "#         res_dict[f\"{i}hr_humidity\"] = df_temp.loc[\"relativehumidity_2m\", i]\n",
    "#         res_dict[f\"{i}hr_precipitation\"] = df_temp.loc[\"precipitation\", i]\n",
    "#         res_dict[f\"{i}hr_weathercode\"] = df_temp.loc[\"weathercode\", i]\n",
    "#         res_dict[f\"{i}hr_windspeed\"] = df_temp.loc[\"windspeed_10m\", i]\n",
    "#         res_dict[f\"{i}hr_winddirection\"] = df_temp.loc[\"winddirection_10m\", i]\n",
    "\n",
    "\n",
    "#     res_df = pd.DataFrame(res_dict, index=[0])\n",
    "\n",
    "#     return res_df"
   ]
  },
  {
   "cell_type": "code",
   "execution_count": null,
   "id": "f120a00d-3aab-4a0e-9827-e404ae3e24c5",
   "metadata": {},
   "outputs": [],
   "source": [
    "# df_transformed = get_transformed_forecast_df(weather_df)"
   ]
  },
  {
   "cell_type": "code",
   "execution_count": null,
   "id": "869f7bb9-3cd5-46bc-a0bb-8650851d7ff2",
   "metadata": {},
   "outputs": [],
   "source": [
    "# df_transformed"
   ]
  },
  {
   "cell_type": "markdown",
   "id": "aa4e500a-df6e-4d8e-9ec0-0845f8287792",
   "metadata": {},
   "source": [
    "---\n",
    "# <span style=\"color:#ff5f27\"> 👩🏻‍🔬 Backfill Pipeline"
   ]
  },
  {
   "cell_type": "code",
   "execution_count": null,
   "id": "add321d9-93a3-4a5d-8980-6fc88672badc",
   "metadata": {},
   "outputs": [],
   "source": [
    "city_names = [\n",
    "    'Kyiv',\n",
    "    'London',\n",
    "    'Paris',\n",
    "    'Stockholm',\n",
    "    'New_York',\n",
    "    'Los_Angeles',\n",
    "    'Singapore',\n",
    "    'Sidney',\n",
    "    'Hong_Kong',\n",
    "    'Rome'\n",
    "]"
   ]
  },
  {
   "cell_type": "code",
   "execution_count": null,
   "id": "b42ad72b-7308-44f4-9cd9-3dc480bbd2d3",
   "metadata": {},
   "outputs": [],
   "source": [
    "import datetime\n",
    "\n",
    "today = datetime.date.today()"
   ]
  },
  {
   "cell_type": "code",
   "execution_count": null,
   "id": "b7d812b7-3c2e-48df-b5f8-498aa1016b5d",
   "metadata": {},
   "outputs": [],
   "source": [
    "today = datetime.date.today() # datetime object\n",
    "\n",
    "day7next = str(today + datetime.timedelta(7))\n",
    "day7ago = str(today - datetime.timedelta(7))\n",
    "tomorrow = str(today + datetime.timedelta(1))"
   ]
  },
  {
   "cell_type": "code",
   "execution_count": null,
   "id": "4d129577-d71c-400e-9f11-c2caee8c1df3",
   "metadata": {},
   "outputs": [],
   "source": [
    "str(today)"
   ]
  },
  {
   "cell_type": "markdown",
   "id": "35f2e22b-8332-4400-b8bb-0088d886b791",
   "metadata": {},
   "source": [
    "### <span style=\"color:#ff5f27\"> 🧙🏼‍♂️ Parsing historical weather observations from January 1 2000 till 7 days before today (thats the restrictions of this particular API.)"
   ]
  },
  {
   "cell_type": "code",
   "execution_count": null,
   "id": "7e1ae110-1064-4990-9a4b-dd0d42142b8d",
   "metadata": {},
   "outputs": [],
   "source": [
    "observations_df = pd.DataFrame()\n",
    "\n",
    "for city_name in city_names:\n",
    "    weather_df_temp, metadata_temp = get_weather_data(city_name,\n",
    "                                                      start_date=\"2000-01-01\", end_date=day7ago)\n",
    "    observations_df = pd.concat([observations_df, weather_df_temp])"
   ]
  },
  {
   "cell_type": "code",
   "execution_count": null,
   "id": "966d1c61-389e-4dbd-8239-69770864a58b",
   "metadata": {},
   "outputs": [],
   "source": [
    "observations_df"
   ]
  },
  {
   "cell_type": "code",
   "execution_count": null,
   "id": "24384998-5d06-464f-93ef-3b8def19a3b2",
   "metadata": {},
   "outputs": [],
   "source": [
    "# observations_df.to_csv(\"observations_df.csv\", index=False)"
   ]
  },
  {
   "cell_type": "markdown",
   "id": "fedc105c-08bd-4ea2-b0cb-ceffa7b87b1c",
   "metadata": {},
   "source": [
    "### <span style=\"color:#ff5f27\"> 🧙🏼‍♂️ Parsing historical weather forecasts from 7 days before today till today (process it as observations)."
   ]
  },
  {
   "cell_type": "code",
   "execution_count": null,
   "id": "a1fb1e54-2081-4d1f-a860-9d564b98299f",
   "metadata": {},
   "outputs": [],
   "source": [
    "forecast_batch_df = pd.DataFrame()\n",
    "\n",
    "for city_name in city_names:\n",
    "    weather_df_temp, metadata_temp = get_weather_data(city_name, forecast=True,\n",
    "                                                      start_date=day7ago, end_date=str(today))\n",
    "    forecast_batch_df = pd.concat([forecast_batch_df, weather_df_temp])\n",
    "\n",
    "forecast_batch_df[\"forecast_hr\"] = 0"
   ]
  },
  {
   "cell_type": "code",
   "execution_count": null,
   "id": "6de5c617-9b73-4948-92ce-dfd5b67b17b3",
   "metadata": {},
   "outputs": [],
   "source": [
    "forecast_batch_df"
   ]
  },
  {
   "cell_type": "code",
   "execution_count": null,
   "id": "c15dbc60-fc80-46f9-9ff6-33f4c12dc34a",
   "metadata": {},
   "outputs": [],
   "source": [
    "# forecast_batch_df.to_csv(\"forecast_batch_df.csv\", index=False)"
   ]
  },
  {
   "cell_type": "markdown",
   "id": "35b64d4b-7517-4168-b549-074325f04700",
   "metadata": {},
   "source": [
    "### <span style=\"color:#ff5f27\"> 🧙🏼‍♂️ Parsing weather forecasts for 7 next days."
   ]
  },
  {
   "cell_type": "code",
   "execution_count": null,
   "id": "e98dcd21-10b7-47ae-a5d5-442cdab4407a",
   "metadata": {},
   "outputs": [],
   "source": [
    "forecast_df = pd.DataFrame()\n",
    "\n",
    "for city_name in city_names:\n",
    "    weather_df_temp, metadata_temp = get_weather_data(city_name, forecast=True,\n",
    "                                                      start_date=tomorrow, # start with tomorrow\n",
    "                                                      end_date=day7next)\n",
    "    forecast_df = pd.concat([forecast_df, weather_df_temp])"
   ]
  },
  {
   "cell_type": "code",
   "execution_count": null,
   "id": "991accd4-b6c8-49cc-94c5-120d212bc48c",
   "metadata": {},
   "outputs": [],
   "source": [
    "forecast_df"
   ]
  },
  {
   "cell_type": "code",
   "execution_count": null,
   "id": "6fdb8e70-6af2-4d1a-bc70-df6093ef80a4",
   "metadata": {},
   "outputs": [],
   "source": [
    "# forecast_df.to_csv(\"forecast_df.csv\", index=False)"
   ]
  },
  {
   "cell_type": "markdown",
   "id": "e1d501b4-aff0-48f5-bc37-191d290e1c1a",
   "metadata": {},
   "source": [
    "---\n",
    "# <span style=\"color:#ff5f27\"> ⬇️ Insert all data into Feature Store"
   ]
  },
  {
   "cell_type": "code",
   "execution_count": null,
   "id": "565e2252-ddd4-47d4-a9ef-048d8e4e1375",
   "metadata": {},
   "outputs": [],
   "source": [
    "import hopsworks\n",
    "\n",
    "project = hopsworks.login(project='weather')\n",
    "fs = project.get_feature_store() "
   ]
  },
  {
   "cell_type": "code",
   "execution_count": null,
   "id": "77cd39fa-a19a-4d27-ad03-3896710fd216",
   "metadata": {},
   "outputs": [],
   "source": [
    "weather_fg = fs.get_or_create_feature_group(\n",
    "    name='weather_data',\n",
    "    description=\"Public Weather Data. Updates every day.\",\n",
    "    version=1,\n",
    "    primary_key=[\"city_name\", \"forecast_hr\"],\n",
    "    event_time=\"base_time\"\n",
    ")"
   ]
  },
  {
   "cell_type": "code",
   "execution_count": null,
   "id": "1bea2e89-d1c3-4283-b95f-f1c9c445c4ea",
   "metadata": {},
   "outputs": [],
   "source": [
    "# weather_fg.insert(observations_df, write_options={\"wait_for_job\": False})\n",
    "# weather_fg.insert(forecast_batch_df, write_options={\"wait_for_job\": False})\n",
    "# weather_fg.insert(forecast_df, write_options={\"wait_for_job\": False})"
   ]
  },
  {
   "cell_type": "markdown",
   "id": "0dbdfa80-0952-475a-8e3f-fad9dfaee015",
   "metadata": {},
   "source": [
    "---\n",
    "# <span style=\"color:#ff5f27\"> 👨🏻‍🏫 Retrieve and check data consistency "
   ]
  },
  {
   "cell_type": "code",
   "execution_count": null,
   "id": "dde06e50-e01c-406f-aa5c-cce9de07b9bd",
   "metadata": {},
   "outputs": [],
   "source": [
    "weather_retrieved = weather_fg.read()"
   ]
  },
  {
   "cell_type": "code",
   "execution_count": null,
   "id": "72ffba2c-4285-47ee-a3fc-5e4c2c54f940",
   "metadata": {},
   "outputs": [],
   "source": [
    "weather_retrieved"
   ]
  },
  {
   "cell_type": "code",
   "execution_count": null,
   "id": "5716e416-4e59-42ac-a54c-81823a583052",
   "metadata": {},
   "outputs": [],
   "source": [
    "weather_retrieved = weather_retrieved.sort_values(\"base_time\")"
   ]
  },
  {
   "cell_type": "code",
   "execution_count": null,
   "id": "033564e9-8f88-4cbb-bdd5-fa85ab2b5240",
   "metadata": {},
   "outputs": [],
   "source": [
    "weather_retrieved"
   ]
  },
  {
   "cell_type": "code",
   "execution_count": null,
   "id": "3dffc177-3ac5-46c9-b55a-7d1574b3080e",
   "metadata": {},
   "outputs": [],
   "source": [
    "# Create a datetime index object\n",
    "dt_index = pd.date_range(start='2000-01-01',\n",
    "                         end=str(today + datetime.timedelta(8)), # to include last, \"seventh\" day.\n",
    "                         freq='H')"
   ]
  },
  {
   "cell_type": "code",
   "execution_count": null,
   "id": "78ea2469-6c0a-4204-85a1-fea90ae91ddb",
   "metadata": {},
   "outputs": [],
   "source": [
    "# Compare the length of the dataframe and datetime index\n",
    "if len(dt_index) - 1 != int(len(weather_retrieved) / len(city_names)): # we should compare dt_index to one city daterows.\n",
    "    print('Inconsistent dates in dataframe.')\n",
    "else:\n",
    "    print(\"Everything seems fine.\")"
   ]
  },
  {
   "cell_type": "code",
   "execution_count": null,
   "id": "5e2cb0c4-7747-4f64-a0d9-ebbc4c1c4dbe",
   "metadata": {},
   "outputs": [],
   "source": [
    "# I substract 1 from len(dt_index) cause it takes 00:00 hour from 8th day.\n",
    "dt_index"
   ]
  },
  {
   "cell_type": "markdown",
   "id": "380dc9ba",
   "metadata": {},
   "source": [
    "---"
   ]
  }
 ],
 "metadata": {
  "kernelspec": {
   "display_name": "Python 3 (ipykernel)",
   "language": "python",
   "name": "python3"
  },
  "language_info": {
   "codemirror_mode": {
    "name": "ipython",
    "version": 3
   },
   "file_extension": ".py",
   "mimetype": "text/x-python",
   "name": "python",
   "nbconvert_exporter": "python",
   "pygments_lexer": "ipython3",
   "version": "3.9.13"
  }
 },
 "nbformat": 4,
 "nbformat_minor": 5
}
