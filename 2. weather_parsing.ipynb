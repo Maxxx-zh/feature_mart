{
 "cells": [
  {
   "cell_type": "markdown",
   "id": "e2670486",
   "metadata": {},
   "source": [
    "# <span style=\"color:#ff5f27\"> 📝 Imports"
   ]
  },
  {
   "cell_type": "code",
   "execution_count": 1,
   "id": "3d400809",
   "metadata": {},
   "outputs": [],
   "source": [
    "import pandas as pd\n",
    "from datetime import datetime, date\n",
    "\n",
    "import requests\n",
    "import json"
   ]
  },
  {
   "cell_type": "markdown",
   "id": "d18b7da4",
   "metadata": {},
   "source": [
    "# <span style=\"color:#ff5f27\"> 🏙️ Cities coordinates"
   ]
  },
  {
   "cell_type": "code",
   "execution_count": 2,
   "id": "987d3cb9",
   "metadata": {},
   "outputs": [],
   "source": [
    "city_coordinates = {\n",
    "    'Kyiv': [50.5, 30.5],  # latitude, longitude\n",
    "    'London': [51.5, -0.099990845],\n",
    "    'Paris': [48.90001, 2.4000092],\n",
    "    'Stockholm': [59.300003, 18.100006],\n",
    "    'New_York': [40.699997, -74],\n",
    "    'Los_Angeles': [34.1, -118.2],\n",
    "    'Singapore': [1.4000015, 103.80002],\n",
    "    'Sidney': [40.300003, 84.2],\n",
    "    'Hong_Kong': [22.300003, 114.20001],\n",
    "    'Rome': [41.90001, 12.5]\n",
    "}"
   ]
  },
  {
   "cell_type": "markdown",
   "id": "a915af20",
   "metadata": {},
   "source": [
    "# <span style=\"color:#ff5f27\"> 🔮 Data Parsing"
   ]
  },
  {
   "cell_type": "code",
   "execution_count": 3,
   "id": "f8f01e98",
   "metadata": {},
   "outputs": [],
   "source": [
    "def parse_weather_data(city_name, today, coordinates=city_coordinates):\n",
    "    \n",
    "    latitude, longitude = coordinates[city_name]\n",
    "    \n",
    "    url = f'https://archive-api.open-meteo.com/v1/archive?latitude={latitude}&longitude={longitude}&start_date={today}&end_date={today}&hourly=temperature_2m,relativehumidity_2m,precipitation,weathercode,windspeed_10m,winddirection_10m'\n",
    "    response = requests.get(url)\n",
    "\n",
    "    assert response.status_code == 200, f\"⚠️ Response status code is: {response.status_code}\"\n",
    "    \n",
    "    data_json = json.loads(response.content)['hourly']\n",
    "\n",
    "    date = data_json['time']\n",
    "    temperature = data_json['temperature_2m']\n",
    "    humidity = data_json['relativehumidity_2m']\n",
    "    precipitation = data_json['precipitation']\n",
    "    weather_condition = data_json['weathercode']\n",
    "    wind_speed = data_json['windspeed_10m']\n",
    "    wind_direction = data_json['winddirection_10m'] \n",
    "    \n",
    "    data_frame = pd.DataFrame(\n",
    "        {\n",
    "            'date': date,\n",
    "            'weather_condition': weather_condition,\n",
    "            'temperature': temperature,\n",
    "            'humidity': humidity,\n",
    "            'precipitation': precipitation,\n",
    "            'wind_speed': wind_speed,\n",
    "            'wind_direction': wind_direction\n",
    "        }\n",
    "    )\n",
    "    data_frame.date = data_frame.date.str.replace('T',' ')\n",
    "    data_frame.date = pd.to_datetime(data_frame.date, format='%Y-%m-%d %H:%M')\n",
    "    data_frame['city_name'] = city_name\n",
    "    \n",
    "    return data_frame[\n",
    "        [\n",
    "            'city_name',\n",
    "            'date',\n",
    "            'weather_condition',\n",
    "            'temperature',\n",
    "            'humidity',\n",
    "            'precipitation',\n",
    "            'wind_speed',\n",
    "            'wind_direction'\n",
    "        ]\n",
    "    ]"
   ]
  },
  {
   "cell_type": "code",
   "execution_count": 4,
   "id": "54a0b9c0",
   "metadata": {},
   "outputs": [
    {
     "data": {
      "text/html": [
       "<div>\n",
       "<style scoped>\n",
       "    .dataframe tbody tr th:only-of-type {\n",
       "        vertical-align: middle;\n",
       "    }\n",
       "\n",
       "    .dataframe tbody tr th {\n",
       "        vertical-align: top;\n",
       "    }\n",
       "\n",
       "    .dataframe thead th {\n",
       "        text-align: right;\n",
       "    }\n",
       "</style>\n",
       "<table border=\"1\" class=\"dataframe\">\n",
       "  <thead>\n",
       "    <tr style=\"text-align: right;\">\n",
       "      <th></th>\n",
       "      <th>city_name</th>\n",
       "      <th>date</th>\n",
       "      <th>weather_condition</th>\n",
       "      <th>temperature</th>\n",
       "      <th>humidity</th>\n",
       "      <th>precipitation</th>\n",
       "      <th>wind_speed</th>\n",
       "      <th>wind_direction</th>\n",
       "    </tr>\n",
       "  </thead>\n",
       "  <tbody>\n",
       "    <tr>\n",
       "      <th>0</th>\n",
       "      <td>Kyiv</td>\n",
       "      <td>2023-01-31 00:00:00</td>\n",
       "      <td>73</td>\n",
       "      <td>-0.7</td>\n",
       "      <td>87</td>\n",
       "      <td>0.3</td>\n",
       "      <td>14.3</td>\n",
       "      <td>225</td>\n",
       "    </tr>\n",
       "    <tr>\n",
       "      <th>1</th>\n",
       "      <td>Kyiv</td>\n",
       "      <td>2023-01-31 01:00:00</td>\n",
       "      <td>73</td>\n",
       "      <td>-0.8</td>\n",
       "      <td>88</td>\n",
       "      <td>0.3</td>\n",
       "      <td>13.3</td>\n",
       "      <td>229</td>\n",
       "    </tr>\n",
       "    <tr>\n",
       "      <th>2</th>\n",
       "      <td>Kyiv</td>\n",
       "      <td>2023-01-31 02:00:00</td>\n",
       "      <td>71</td>\n",
       "      <td>-0.8</td>\n",
       "      <td>88</td>\n",
       "      <td>0.1</td>\n",
       "      <td>12.3</td>\n",
       "      <td>232</td>\n",
       "    </tr>\n",
       "    <tr>\n",
       "      <th>3</th>\n",
       "      <td>Kyiv</td>\n",
       "      <td>2023-01-31 03:00:00</td>\n",
       "      <td>71</td>\n",
       "      <td>-0.9</td>\n",
       "      <td>88</td>\n",
       "      <td>0.1</td>\n",
       "      <td>11.3</td>\n",
       "      <td>239</td>\n",
       "    </tr>\n",
       "    <tr>\n",
       "      <th>4</th>\n",
       "      <td>Kyiv</td>\n",
       "      <td>2023-01-31 04:00:00</td>\n",
       "      <td>3</td>\n",
       "      <td>-0.8</td>\n",
       "      <td>88</td>\n",
       "      <td>0.0</td>\n",
       "      <td>10.6</td>\n",
       "      <td>246</td>\n",
       "    </tr>\n",
       "    <tr>\n",
       "      <th>...</th>\n",
       "      <td>...</td>\n",
       "      <td>...</td>\n",
       "      <td>...</td>\n",
       "      <td>...</td>\n",
       "      <td>...</td>\n",
       "      <td>...</td>\n",
       "      <td>...</td>\n",
       "      <td>...</td>\n",
       "    </tr>\n",
       "    <tr>\n",
       "      <th>19</th>\n",
       "      <td>Rome</td>\n",
       "      <td>2023-01-31 19:00:00</td>\n",
       "      <td>0</td>\n",
       "      <td>9.6</td>\n",
       "      <td>64</td>\n",
       "      <td>0.0</td>\n",
       "      <td>0.7</td>\n",
       "      <td>360</td>\n",
       "    </tr>\n",
       "    <tr>\n",
       "      <th>20</th>\n",
       "      <td>Rome</td>\n",
       "      <td>2023-01-31 20:00:00</td>\n",
       "      <td>0</td>\n",
       "      <td>9.4</td>\n",
       "      <td>65</td>\n",
       "      <td>0.0</td>\n",
       "      <td>1.5</td>\n",
       "      <td>315</td>\n",
       "    </tr>\n",
       "    <tr>\n",
       "      <th>21</th>\n",
       "      <td>Rome</td>\n",
       "      <td>2023-01-31 21:00:00</td>\n",
       "      <td>0</td>\n",
       "      <td>8.5</td>\n",
       "      <td>67</td>\n",
       "      <td>0.0</td>\n",
       "      <td>3.1</td>\n",
       "      <td>54</td>\n",
       "    </tr>\n",
       "    <tr>\n",
       "      <th>22</th>\n",
       "      <td>Rome</td>\n",
       "      <td>2023-01-31 22:00:00</td>\n",
       "      <td>0</td>\n",
       "      <td>6.3</td>\n",
       "      <td>74</td>\n",
       "      <td>0.0</td>\n",
       "      <td>4.2</td>\n",
       "      <td>59</td>\n",
       "    </tr>\n",
       "    <tr>\n",
       "      <th>23</th>\n",
       "      <td>Rome</td>\n",
       "      <td>2023-01-31 23:00:00</td>\n",
       "      <td>0</td>\n",
       "      <td>4.0</td>\n",
       "      <td>83</td>\n",
       "      <td>0.0</td>\n",
       "      <td>3.7</td>\n",
       "      <td>61</td>\n",
       "    </tr>\n",
       "  </tbody>\n",
       "</table>\n",
       "<p>240 rows × 8 columns</p>\n",
       "</div>"
      ],
      "text/plain": [
       "   city_name                date  weather_condition  temperature  humidity  \\\n",
       "0       Kyiv 2023-01-31 00:00:00                 73         -0.7        87   \n",
       "1       Kyiv 2023-01-31 01:00:00                 73         -0.8        88   \n",
       "2       Kyiv 2023-01-31 02:00:00                 71         -0.8        88   \n",
       "3       Kyiv 2023-01-31 03:00:00                 71         -0.9        88   \n",
       "4       Kyiv 2023-01-31 04:00:00                  3         -0.8        88   \n",
       "..       ...                 ...                ...          ...       ...   \n",
       "19      Rome 2023-01-31 19:00:00                  0          9.6        64   \n",
       "20      Rome 2023-01-31 20:00:00                  0          9.4        65   \n",
       "21      Rome 2023-01-31 21:00:00                  0          8.5        67   \n",
       "22      Rome 2023-01-31 22:00:00                  0          6.3        74   \n",
       "23      Rome 2023-01-31 23:00:00                  0          4.0        83   \n",
       "\n",
       "    precipitation  wind_speed  wind_direction  \n",
       "0             0.3        14.3             225  \n",
       "1             0.3        13.3             229  \n",
       "2             0.1        12.3             232  \n",
       "3             0.1        11.3             239  \n",
       "4             0.0        10.6             246  \n",
       "..            ...         ...             ...  \n",
       "19            0.0         0.7             360  \n",
       "20            0.0         1.5             315  \n",
       "21            0.0         3.1              54  \n",
       "22            0.0         4.2              59  \n",
       "23            0.0         3.7              61  \n",
       "\n",
       "[240 rows x 8 columns]"
      ]
     },
     "execution_count": 4,
     "metadata": {},
     "output_type": "execute_result"
    }
   ],
   "source": [
    "#today = date.today()\n",
    "today = '2023-01-31'\n",
    "\n",
    "data_parsed = pd.DataFrame()\n",
    "\n",
    "for city in city_coordinates.keys():\n",
    "    parsed_df = parse_weather_data(\n",
    "        city,\n",
    "        today\n",
    "    )\n",
    "    data_parsed = pd.concat([data_parsed,parsed_df])\n",
    "    \n",
    "data_parsed"
   ]
  },
  {
   "cell_type": "markdown",
   "id": "2fb8c9ca",
   "metadata": {},
   "source": [
    "---\n",
    "# <span style=\"color:#ff5f27\"> 🔮 Connecting to Hopsworks Feature Store"
   ]
  },
  {
   "cell_type": "code",
   "execution_count": 8,
   "id": "2be497be",
   "metadata": {},
   "outputs": [
    {
     "name": "stdout",
     "output_type": "stream",
     "text": [
      "Connection closed.\n",
      "Connected. Call `.close()` to terminate connection gracefully.\n",
      "\n",
      "Logged in to project, explore it here https://c.app.hopsworks.ai:443/p/3346\n",
      "Connected. Call `.close()` to terminate connection gracefully.\n"
     ]
    }
   ],
   "source": [
    "import hopsworks\n",
    "\n",
    "project = hopsworks.login()\n",
    "\n",
    "fs = project.get_feature_store() \n",
    "\n",
    "weather_historical_fg = fs.get_or_create_feature_group(\n",
    "    name='weather_historical_fg',\n",
    "    version=1\n",
    ")"
   ]
  },
  {
   "cell_type": "markdown",
   "id": "f93db891",
   "metadata": {},
   "source": [
    "## <span style=\"color:#ff5f27\"> ⬆️ Uploading new data to the Feature Store"
   ]
  },
  {
   "cell_type": "code",
   "execution_count": 9,
   "id": "810ad029",
   "metadata": {},
   "outputs": [
    {
     "data": {
      "application/vnd.jupyter.widget-view+json": {
       "model_id": "19cdf3051bdb474db1645617f1c01557",
       "version_major": 2,
       "version_minor": 0
      },
      "text/plain": [
       "Uploading Dataframe: 0.00% |          | Rows 0/240 | Elapsed Time: 00:00 | Remaining Time: ?"
      ]
     },
     "metadata": {},
     "output_type": "display_data"
    },
    {
     "name": "stdout",
     "output_type": "stream",
     "text": [
      "Launching offline feature group backfill job...\n",
      "Backfill Job started successfully, you can follow the progress at \n",
      "https://c.app.hopsworks.ai/p/3346/jobs/named/weather_historical_fg_1_offline_fg_backfill/executions\n"
     ]
    },
    {
     "data": {
      "text/plain": [
       "(<hsfs.core.job.Job at 0x7fea0378a190>, None)"
      ]
     },
     "execution_count": 9,
     "metadata": {},
     "output_type": "execute_result"
    }
   ],
   "source": [
    "weather_historical_fg.insert(data_parsed)"
   ]
  },
  {
   "cell_type": "markdown",
   "id": "b3616d86",
   "metadata": {},
   "source": [
    "---"
   ]
  }
 ],
 "metadata": {
  "kernelspec": {
   "display_name": "Python 3 (ipykernel)",
   "language": "python",
   "name": "python3"
  },
  "language_info": {
   "codemirror_mode": {
    "name": "ipython",
    "version": 3
   },
   "file_extension": ".py",
   "mimetype": "text/x-python",
   "name": "python",
   "nbconvert_exporter": "python",
   "pygments_lexer": "ipython3",
   "version": "3.9.13"
  }
 },
 "nbformat": 4,
 "nbformat_minor": 5
}
