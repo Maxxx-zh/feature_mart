{
 "cells": [
  {
   "cell_type": "markdown",
   "id": "aeddb5f5",
   "metadata": {},
   "source": [
    "# <span style=\"color:#ff5f27\"> 📝 Imports"
   ]
  },
  {
   "cell_type": "code",
   "execution_count": 1,
   "id": "b56bcc6e",
   "metadata": {},
   "outputs": [],
   "source": [
    "import pandas as pd\n",
    "from datetime import datetime"
   ]
  },
  {
   "cell_type": "markdown",
   "id": "241f3f4d",
   "metadata": {},
   "source": [
    "# <span style=\"color:#ff5f27\"> 🏙️ Cities coordinates"
   ]
  },
  {
   "cell_type": "code",
   "execution_count": 2,
   "id": "70fb5132",
   "metadata": {},
   "outputs": [],
   "source": [
    "coordinates = {\n",
    "    'Kyiv': [50.5, 30.5],  # latitude, longitude\n",
    "    'London': [51.5, -0.099990845],\n",
    "    'Paris': [48.90001, 2.4000092],\n",
    "    'Stockholm': [59.300003, 18.100006],\n",
    "    'New_York': [40.699997, -74],\n",
    "    'Los_Angeles': [34.1, -118.2],\n",
    "    'Singapore': [1.4000015, 103.80002],\n",
    "    'Sidney': [40.300003, 84.2],\n",
    "    'Hong_Kong': [22.300003, 114.20001],\n",
    "    'Rome': [41.90001, 12.5]\n",
    "}"
   ]
  },
  {
   "cell_type": "markdown",
   "id": "1484fa97",
   "metadata": {},
   "source": [
    "# <span style=\"color:#ff5f27\"> 👩🏻‍🔬 Data Preparation"
   ]
  },
  {
   "cell_type": "code",
   "execution_count": 3,
   "id": "e021a38e",
   "metadata": {},
   "outputs": [],
   "source": [
    "def data_review(data, city_name):\n",
    "    print(data.time.agg({'min','max'}))\n",
    "    \n",
    "    data.time = data.time.str.replace('T',' ')\n",
    "    data.time = pd.to_datetime(data.time, format='%Y-%m-%d %H:%M')\n",
    "    \n",
    "    data['city'] = city_name\n",
    "    \n",
    "    data.columns = [\n",
    "        'date',\n",
    "        'temperature',\n",
    "        'humidity',\n",
    "        'precipitation',\n",
    "        'weathercode',\n",
    "        'wind_speed',\n",
    "        'wind_direction',\n",
    "        'city_name'\n",
    "    ]\n",
    "    \n",
    "    data[['temperature','wind_speed']] = data[['temperature','wind_speed']].apply(lambda x: x.str.replace(',','.'))\n",
    "    data.precipitation = data.precipitation.str.replace(',','.')\n",
    "    \n",
    "    data[['temperature','precipitation','wind_speed']] = data[\n",
    "        [\n",
    "            'temperature',\n",
    "            'precipitation',\n",
    "            'wind_speed'\n",
    "        ]\n",
    "    ].astype('float')\n",
    "    \n",
    "    data[['humidity','wind_direction']] = data[['humidity','wind_direction']].astype('int')\n",
    "    \n",
    "    return data[\n",
    "        [\n",
    "            'city_name',\n",
    "            'date',\n",
    "            'weathercode',\n",
    "            'temperature',\n",
    "            'humidity',\n",
    "            'precipitation',\n",
    "            'wind_speed',\n",
    "            'wind_direction'\n",
    "        ]\n",
    "    ]"
   ]
  },
  {
   "cell_type": "markdown",
   "id": "12bce038",
   "metadata": {},
   "source": [
    "---\n",
    "# <span style=\"color:#ff5f27\"> 🕵🏻 Data Exploration"
   ]
  },
  {
   "cell_type": "code",
   "execution_count": 4,
   "id": "28fa3594",
   "metadata": {},
   "outputs": [
    {
     "data": {
      "text/html": [
       "<div>\n",
       "<style scoped>\n",
       "    .dataframe tbody tr th:only-of-type {\n",
       "        vertical-align: middle;\n",
       "    }\n",
       "\n",
       "    .dataframe tbody tr th {\n",
       "        vertical-align: top;\n",
       "    }\n",
       "\n",
       "    .dataframe thead th {\n",
       "        text-align: right;\n",
       "    }\n",
       "</style>\n",
       "<table border=\"1\" class=\"dataframe\">\n",
       "  <thead>\n",
       "    <tr style=\"text-align: right;\">\n",
       "      <th></th>\n",
       "      <th>city_name</th>\n",
       "      <th>date</th>\n",
       "      <th>weather_condition</th>\n",
       "      <th>temperature</th>\n",
       "      <th>humidity</th>\n",
       "      <th>precipitation</th>\n",
       "      <th>wind_speed</th>\n",
       "      <th>wind_direction</th>\n",
       "    </tr>\n",
       "  </thead>\n",
       "  <tbody>\n",
       "    <tr>\n",
       "      <th>0</th>\n",
       "      <td>Rome</td>\n",
       "      <td>2000-01-01 00:00:00</td>\n",
       "      <td>0</td>\n",
       "      <td>1.3</td>\n",
       "      <td>77</td>\n",
       "      <td>0.0</td>\n",
       "      <td>10.1</td>\n",
       "      <td>17</td>\n",
       "    </tr>\n",
       "    <tr>\n",
       "      <th>1</th>\n",
       "      <td>Rome</td>\n",
       "      <td>2000-01-01 01:00:00</td>\n",
       "      <td>0</td>\n",
       "      <td>1.0</td>\n",
       "      <td>78</td>\n",
       "      <td>0.0</td>\n",
       "      <td>9.7</td>\n",
       "      <td>22</td>\n",
       "    </tr>\n",
       "    <tr>\n",
       "      <th>2</th>\n",
       "      <td>Rome</td>\n",
       "      <td>2000-01-01 02:00:00</td>\n",
       "      <td>0</td>\n",
       "      <td>0.8</td>\n",
       "      <td>79</td>\n",
       "      <td>0.0</td>\n",
       "      <td>9.2</td>\n",
       "      <td>26</td>\n",
       "    </tr>\n",
       "    <tr>\n",
       "      <th>3</th>\n",
       "      <td>Rome</td>\n",
       "      <td>2000-01-01 03:00:00</td>\n",
       "      <td>0</td>\n",
       "      <td>0.6</td>\n",
       "      <td>79</td>\n",
       "      <td>0.0</td>\n",
       "      <td>8.2</td>\n",
       "      <td>29</td>\n",
       "    </tr>\n",
       "    <tr>\n",
       "      <th>4</th>\n",
       "      <td>Rome</td>\n",
       "      <td>2000-01-01 04:00:00</td>\n",
       "      <td>0</td>\n",
       "      <td>0.5</td>\n",
       "      <td>78</td>\n",
       "      <td>0.0</td>\n",
       "      <td>8.5</td>\n",
       "      <td>28</td>\n",
       "    </tr>\n",
       "    <tr>\n",
       "      <th>...</th>\n",
       "      <td>...</td>\n",
       "      <td>...</td>\n",
       "      <td>...</td>\n",
       "      <td>...</td>\n",
       "      <td>...</td>\n",
       "      <td>...</td>\n",
       "      <td>...</td>\n",
       "      <td>...</td>\n",
       "    </tr>\n",
       "    <tr>\n",
       "      <th>2016235</th>\n",
       "      <td>Kyiv</td>\n",
       "      <td>2022-12-31 19:00:00</td>\n",
       "      <td>1</td>\n",
       "      <td>5.3</td>\n",
       "      <td>86</td>\n",
       "      <td>0.0</td>\n",
       "      <td>16.9</td>\n",
       "      <td>220</td>\n",
       "    </tr>\n",
       "    <tr>\n",
       "      <th>2016236</th>\n",
       "      <td>Kyiv</td>\n",
       "      <td>2022-12-31 20:00:00</td>\n",
       "      <td>3</td>\n",
       "      <td>5.2</td>\n",
       "      <td>86</td>\n",
       "      <td>0.0</td>\n",
       "      <td>16.8</td>\n",
       "      <td>222</td>\n",
       "    </tr>\n",
       "    <tr>\n",
       "      <th>2016237</th>\n",
       "      <td>Kyiv</td>\n",
       "      <td>2022-12-31 21:00:00</td>\n",
       "      <td>3</td>\n",
       "      <td>5.2</td>\n",
       "      <td>87</td>\n",
       "      <td>0.0</td>\n",
       "      <td>18.1</td>\n",
       "      <td>221</td>\n",
       "    </tr>\n",
       "    <tr>\n",
       "      <th>2016238</th>\n",
       "      <td>Kyiv</td>\n",
       "      <td>2022-12-31 22:00:00</td>\n",
       "      <td>3</td>\n",
       "      <td>5.6</td>\n",
       "      <td>86</td>\n",
       "      <td>0.0</td>\n",
       "      <td>18.6</td>\n",
       "      <td>226</td>\n",
       "    </tr>\n",
       "    <tr>\n",
       "      <th>2016239</th>\n",
       "      <td>Kyiv</td>\n",
       "      <td>2022-12-31 23:00:00</td>\n",
       "      <td>3</td>\n",
       "      <td>5.9</td>\n",
       "      <td>86</td>\n",
       "      <td>0.0</td>\n",
       "      <td>19.5</td>\n",
       "      <td>231</td>\n",
       "    </tr>\n",
       "  </tbody>\n",
       "</table>\n",
       "<p>2016240 rows × 8 columns</p>\n",
       "</div>"
      ],
      "text/plain": [
       "        city_name                date  weather_condition  temperature  \\\n",
       "0            Rome 2000-01-01 00:00:00                  0          1.3   \n",
       "1            Rome 2000-01-01 01:00:00                  0          1.0   \n",
       "2            Rome 2000-01-01 02:00:00                  0          0.8   \n",
       "3            Rome 2000-01-01 03:00:00                  0          0.6   \n",
       "4            Rome 2000-01-01 04:00:00                  0          0.5   \n",
       "...           ...                 ...                ...          ...   \n",
       "2016235      Kyiv 2022-12-31 19:00:00                  1          5.3   \n",
       "2016236      Kyiv 2022-12-31 20:00:00                  3          5.2   \n",
       "2016237      Kyiv 2022-12-31 21:00:00                  3          5.2   \n",
       "2016238      Kyiv 2022-12-31 22:00:00                  3          5.6   \n",
       "2016239      Kyiv 2022-12-31 23:00:00                  3          5.9   \n",
       "\n",
       "         humidity  precipitation  wind_speed  wind_direction  \n",
       "0              77            0.0        10.1              17  \n",
       "1              78            0.0         9.7              22  \n",
       "2              79            0.0         9.2              26  \n",
       "3              79            0.0         8.2              29  \n",
       "4              78            0.0         8.5              28  \n",
       "...           ...            ...         ...             ...  \n",
       "2016235        86            0.0        16.9             220  \n",
       "2016236        86            0.0        16.8             222  \n",
       "2016237        87            0.0        18.1             221  \n",
       "2016238        86            0.0        18.6             226  \n",
       "2016239        86            0.0        19.5             231  \n",
       "\n",
       "[2016240 rows x 8 columns]"
      ]
     },
     "execution_count": 4,
     "metadata": {},
     "output_type": "execute_result"
    }
   ],
   "source": [
    "data_historical = pd.read_csv('data/historical_weather_data.csv')\n",
    "data_historical.date = pd.to_datetime(data_historical.date)\n",
    "\n",
    "data_historical"
   ]
  },
  {
   "cell_type": "code",
   "execution_count": 5,
   "id": "0c488b53",
   "metadata": {},
   "outputs": [
    {
     "data": {
      "text/plain": [
       "city_name                    object\n",
       "date                 datetime64[ns]\n",
       "weather_condition             int64\n",
       "temperature                 float64\n",
       "humidity                      int64\n",
       "precipitation               float64\n",
       "wind_speed                  float64\n",
       "wind_direction                int64\n",
       "dtype: object"
      ]
     },
     "execution_count": 5,
     "metadata": {},
     "output_type": "execute_result"
    }
   ],
   "source": [
    "data_historical.dtypes"
   ]
  },
  {
   "cell_type": "markdown",
   "id": "8554a1bf",
   "metadata": {},
   "source": [
    "---\n",
    "# <span style=\"color:#ff5f27\"> 🔮 Connecting to Hopsworks Feature Store"
   ]
  },
  {
   "cell_type": "code",
   "execution_count": 6,
   "id": "22379c9e",
   "metadata": {},
   "outputs": [
    {
     "name": "stdout",
     "output_type": "stream",
     "text": [
      "Connected. Call `.close()` to terminate connection gracefully.\n",
      "\n",
      "Logged in to project, explore it here https://c.app.hopsworks.ai:443/p/3346\n"
     ]
    },
    {
     "name": "stderr",
     "output_type": "stream",
     "text": [
      "DeprecationWarning: the imp module is deprecated in favour of importlib; see the module's documentation for alternative uses\n"
     ]
    },
    {
     "name": "stdout",
     "output_type": "stream",
     "text": [
      "Connected. Call `.close()` to terminate connection gracefully.\n"
     ]
    }
   ],
   "source": [
    "import hopsworks\n",
    "\n",
    "project = hopsworks.login()\n",
    "\n",
    "fs = project.get_feature_store() "
   ]
  },
  {
   "cell_type": "markdown",
   "id": "e04c6f51",
   "metadata": {},
   "source": [
    "## <span style=\"color:#ff5f27\">🪄 🌦️ Creating Historical Weather Feature Group"
   ]
  },
  {
   "cell_type": "code",
   "execution_count": 7,
   "id": "18fc244c",
   "metadata": {},
   "outputs": [
    {
     "name": "stdout",
     "output_type": "stream",
     "text": [
      "Feature Group created successfully, explore it at \n",
      "https://c.app.hopsworks.ai:443/p/3346/fs/3293/fg/20839\n"
     ]
    },
    {
     "data": {
      "application/vnd.jupyter.widget-view+json": {
       "model_id": "2d20de0a4d3b410aa5352f4b1d3cbd27",
       "version_major": 2,
       "version_minor": 0
      },
      "text/plain": [
       "Uploading Dataframe: 0.00% |          | Rows 0/2016240 | Elapsed Time: 00:00 | Remaining Time: ?"
      ]
     },
     "metadata": {},
     "output_type": "display_data"
    },
    {
     "name": "stdout",
     "output_type": "stream",
     "text": [
      "Launching offline feature group backfill job...\n",
      "Backfill Job started successfully, you can follow the progress at \n",
      "https://c.app.hopsworks.ai/p/3346/jobs/named/weather_historical_fg_1_offline_fg_backfill/executions\n"
     ]
    },
    {
     "data": {
      "text/plain": [
       "(<hsfs.core.job.Job at 0x7fecdfd534c0>, None)"
      ]
     },
     "execution_count": 7,
     "metadata": {},
     "output_type": "execute_result"
    }
   ],
   "source": [
    "weather_historical_fg = fs.get_or_create_feature_group(\n",
    "    name='weather_historical_fg',\n",
    "    version=1,\n",
    "    description='Hourly weather data for 10 cities since January 2000',\n",
    "    primary_key = ['city_name'],\n",
    "    event_time = 'date',\n",
    "    online_enabled = True\n",
    ")\n",
    "\n",
    "weather_historical.insert(data_historical)"
   ]
  },
  {
   "cell_type": "markdown",
   "id": "dc198f18",
   "metadata": {},
   "source": [
    "---"
   ]
  }
 ],
 "metadata": {
  "kernelspec": {
   "display_name": "Python 3 (ipykernel)",
   "language": "python",
   "name": "python3"
  },
  "language_info": {
   "codemirror_mode": {
    "name": "ipython",
    "version": 3
   },
   "file_extension": ".py",
   "mimetype": "text/x-python",
   "name": "python",
   "nbconvert_exporter": "python",
   "pygments_lexer": "ipython3",
   "version": "3.9.13"
  }
 },
 "nbformat": 4,
 "nbformat_minor": 5
}
